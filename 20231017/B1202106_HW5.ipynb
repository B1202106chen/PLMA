{
  "nbformat": 4,
  "nbformat_minor": 0,
  "metadata": {
    "colab": {
      "provenance": []
    },
    "kernelspec": {
      "name": "python3",
      "display_name": "Python 3"
    },
    "language_info": {
      "name": "python"
    }
  },
  "cells": [
    {
      "cell_type": "code",
      "source": [
        "def tree(n):\n",
        "  for i in range(n):\n",
        "    print(\" \"*(n-i-1)+\"*\"*(2*i+1))\n",
        "  for i in range(5):\n",
        "    print(\" \"*(n-2)+\"***\")\n",
        "tree(9)\n"
      ],
      "metadata": {
        "colab": {
          "base_uri": "https://localhost:8080/"
        },
        "id": "8Fu6qv27PNSu",
        "outputId": "3fff4895-9e33-4f3c-bb11-3b4f742b4a56"
      },
      "execution_count": null,
      "outputs": [
        {
          "output_type": "stream",
          "name": "stdout",
          "text": [
            "        *\n",
            "       ***\n",
            "      *****\n",
            "     *******\n",
            "    *********\n",
            "   ***********\n",
            "  *************\n",
            " ***************\n",
            "*****************\n",
            "       ***\n",
            "       ***\n",
            "       ***\n",
            "       ***\n",
            "       ***\n"
          ]
        }
      ]
    },
    {
      "cell_type": "code",
      "source": [
        "import random\n",
        "def play_game():\n",
        "  answer = str(random. randint (0000,9999))\n",
        "  print(\"遊戲開始!\")\n",
        "  rt = 4\n",
        "  while rt > 0:\n",
        "    guess =input(\"請輸入一個四位數字:\")\n",
        "    if len(guess) != 4:\n",
        "      continue\n",
        "    else:\n",
        "      rt -= 1\n",
        "      a, b = 0, 0\n",
        "      for j in range(4):\n",
        "        if guess[j] == answer[j]:\n",
        "          a += 1\n",
        "        elif guess[j] in answer:\n",
        "          b += 1\n",
        "      print(f\"{a}A{b}B，剩餘{rt}次\")\n",
        "      if a == 4:\n",
        "        print(\"恭喜你猜對了!\")\n",
        "        break\n",
        "  print(f\"遊戲結束,答案是{answer}。\")\n",
        "play_game()"
      ],
      "metadata": {
        "colab": {
          "base_uri": "https://localhost:8080/"
        },
        "id": "mpmJjhQFOLf-",
        "outputId": "3e2b98a2-12b7-4666-c1c8-5a07a5636e7f"
      },
      "execution_count": 1,
      "outputs": [
        {
          "output_type": "stream",
          "name": "stdout",
          "text": [
            "遊戲開始!\n",
            "請輸入一個四位數字:1234\n",
            "0A1B，剩餘3次\n",
            "請輸入一個四位數字:12345\n",
            "請輸入一個四位數字:2678\n",
            "0A0B，剩餘2次\n",
            "請輸入一個四位數字:9001\n",
            "1A1B，剩餘1次\n",
            "請輸入一個四位數字:9911\n",
            "2A2B，剩餘0次\n",
            "遊戲結束,答案是9119。\n"
          ]
        }
      ]
    }
  ]
}