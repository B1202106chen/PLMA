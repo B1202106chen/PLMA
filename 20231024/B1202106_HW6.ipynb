{
  "nbformat": 4,
  "nbformat_minor": 0,
  "metadata": {
    "colab": {
      "provenance": []
    },
    "kernelspec": {
      "name": "python3",
      "display_name": "Python 3"
    },
    "language_info": {
      "name": "python"
    }
  },
  "cells": [
    {
      "cell_type": "code",
      "source": [
        "n=int(input(\"請輸入高度（七以上的整數）：\"))\n",
        "def tree(n):\n",
        "  star=1\n",
        "  for i in range(n):\n",
        "    print(\" \"*(n-i)+\"*\"*star)\n",
        "    star+=2\n",
        "tree(n)\n",
        "for j in range(5):\n",
        "    print(\" \"*(n-1)+\"*\"*3)"
      ],
      "metadata": {
        "colab": {
          "base_uri": "https://localhost:8080/"
        },
        "id": "J6Eioh1LrID3",
        "outputId": "c8a05f97-ed3a-48c9-cee2-e5fd5bb85a30"
      },
      "execution_count": 21,
      "outputs": [
        {
          "output_type": "stream",
          "name": "stdout",
          "text": [
            "請輸入高度（七以上的整數）：10\n",
            "          *\n",
            "         ***\n",
            "        *****\n",
            "       *******\n",
            "      *********\n",
            "     ***********\n",
            "    *************\n",
            "   ***************\n",
            "  *****************\n",
            " *******************\n",
            "         ***\n",
            "         ***\n",
            "         ***\n",
            "         ***\n",
            "         ***\n"
          ]
        }
      ]
    },
    {
      "cell_type": "code",
      "source": [
        "def calculate_bmi():\n",
        "    try:\n",
        "        height = float(input(\"請輸入您的身高（公尺）：\"))\n",
        "        weight = float(input(\"請輸入您的體重（公斤）：\"))\n",
        "        bmi = weight / ((height / 100) ** 2)\n",
        "    except ValueError:\n",
        "      return f\"輸入內容錯誤！請輸入數字。\"\n",
        "    bmi = weight / ((height / 100) ** 2)\n",
        "    if bmi < 18.5:\n",
        "      return f\"您的BMI值為{bmi:.2f}，過輕\"\n",
        "    elif 18.5 <= bmi < 24:\n",
        "      return f\"您的BMI值為{bmi:.2f}，適中\"\n",
        "    elif 24 <= bmi < 27:\n",
        "      return f\"您的BMI值為{bmi:.2f}，過重\"\n",
        "    else:\n",
        "      return f\"您的BMI值為{bmi:.2f}，肥胖\"\n",
        "calculate_bmi()"
      ],
      "metadata": {
        "colab": {
          "base_uri": "https://localhost:8080/",
          "height": 70
        },
        "id": "4QWM6R-RsINU",
        "outputId": "9ad9bc01-5ae0-457d-c471-ae1b12a54f0a"
      },
      "execution_count": 20,
      "outputs": [
        {
          "name": "stdout",
          "output_type": "stream",
          "text": [
            "請輸入您的身高（公尺）：170\n",
            "請輸入您的體重（公斤）：50\n"
          ]
        },
        {
          "output_type": "execute_result",
          "data": {
            "text/plain": [
              "'您的BMI值為17.30，過輕'"
            ],
            "application/vnd.google.colaboratory.intrinsic+json": {
              "type": "string"
            }
          },
          "metadata": {},
          "execution_count": 20
        }
      ]
    }
  ]
}