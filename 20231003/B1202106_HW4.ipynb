{
  "nbformat": 4,
  "nbformat_minor": 0,
  "metadata": {
    "colab": {
      "provenance": []
    },
    "kernelspec": {
      "name": "python3",
      "display_name": "Python 3"
    },
    "language_info": {
      "name": "python"
    }
  },
  "cells": [
    {
      "cell_type": "code",
      "execution_count": null,
      "metadata": {
        "colab": {
          "base_uri": "https://localhost:8080/"
        },
        "id": "6KKEA8MfgJub",
        "outputId": "375b8def-c25d-4992-e7c5-86b52a9bdb3b"
      },
      "outputs": [
        {
          "output_type": "stream",
          "name": "stdout",
          "text": [
            "請輸入五個成績，中間請使用空白鍵隔開：12 13 11 13 15\n",
            "分數的平均為 12.666666666666666\n"
          ]
        }
      ],
      "source": [
        "scores = input(\"請輸入五個成績，中間請使用空白鍵隔開：\").split()\n",
        "scores = [int(score) for score in scores]\n",
        "scores.remove(max(scores))\n",
        "scores.remove(min(scores))\n",
        "average = sum(scores) / len(scores)\n",
        "print(f\"分數的平均為 {average}\")"
      ]
    },
    {
      "cell_type": "code",
      "source": [
        "number1=float(input(\"請輸入數字1：\"))\n",
        "number2=float(input(\"請輸入數字2：\"))\n",
        "a=input(\"請輸入運算符號+、-、*或/：\")\n",
        "if a=='+':\n",
        "    print('number1+number2')\n",
        "elif a=='-':\n",
        "    print('number1-number2')\n",
        "elif a=='*':\n",
        "    print('number1*number2')\n",
        "elif a=='/':\n",
        "    print('number1/number2')\n",
        "else:\n",
        "    print(\"我只會加減乘除\")"
      ],
      "metadata": {
        "id": "otCvT8JywAU3",
        "colab": {
          "base_uri": "https://localhost:8080/"
        },
        "outputId": "ed89ba5e-f217-41fd-c2a9-520e87984395"
      },
      "execution_count": null,
      "outputs": [
        {
          "output_type": "stream",
          "name": "stdout",
          "text": [
            "請輸入數字1：1\n",
            "請輸入數字2：3\n",
            "請輸入運算符號+、-、*或/：0\n",
            "我只會加減乘除\n"
          ]
        }
      ]
    },
    {
      "cell_type": "code",
      "source": [
        "year=float(input(\"請輸入年份：\"))\n",
        "if 0<year<1582 and year%4==0:\n",
        "    print(\"閏年\")\n",
        "elif year>1582 and year%400==0:\n",
        "    print(\"閏年\")\n",
        "elif year>1582 and year%100==0 and year%400!=0:\n",
        "    print(\"平年\")\n",
        "else:\n",
        "    print(\"平年\")"
      ],
      "metadata": {
        "colab": {
          "base_uri": "https://localhost:8080/"
        },
        "id": "enHrdW_IwBM-",
        "outputId": "1faa0ee0-c2e0-416d-a2cf-acdba4e9839c"
      },
      "execution_count": 5,
      "outputs": [
        {
          "output_type": "stream",
          "name": "stdout",
          "text": [
            "請輸入年份：2100\n",
            "平年\n"
          ]
        }
      ]
    }
  ]
}