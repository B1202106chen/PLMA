{
  "nbformat": 4,
  "nbformat_minor": 0,
  "metadata": {
    "colab": {
      "provenance": []
    },
    "kernelspec": {
      "name": "python3",
      "display_name": "Python 3"
    },
    "language_info": {
      "name": "python"
    }
  },
  "cells": [
    {
      "cell_type": "code",
      "execution_count": null,
      "metadata": {
        "colab": {
          "base_uri": "https://localhost:8080/"
        },
        "id": "er_JOq_7W8lG",
        "outputId": "0d97d473-1eeb-4f3a-ad4a-64b3cc42536b"
      },
      "outputs": [
        {
          "output_type": "stream",
          "name": "stdout",
          "text": [
            "1x1=1   1x2=2   1x3=3   1x4=4   1x5=5   1x6=6   1x7=7   1x8=8   1x9=9   \n",
            "2x1=2   2x2=4   2x3=6   2x4=8   2x5=10  2x6=12  2x7=14  2x8=16  2x9=18  \n",
            "3x1=3   3x2=6   3x3=9   3x4=12  3x5=15  3x6=18  3x7=21  3x8=24  3x9=27  \n",
            "4x1=4   4x2=8   4x3=12  4x4=16  4x5=20  4x6=24  4x7=28  4x8=32  4x9=36  \n",
            "5x1=5   5x2=10  5x3=15  5x4=20  5x5=25  5x6=30  5x7=35  5x8=40  5x9=45  \n",
            "6x1=6   6x2=12  6x3=18  6x4=24  6x5=30  6x6=36  6x7=42  6x8=48  6x9=54  \n",
            "7x1=7   7x2=14  7x3=21  7x4=28  7x5=35  7x6=42  7x7=49  7x8=56  7x9=63  \n",
            "8x1=8   8x2=16  8x3=24  8x4=32  8x5=40  8x6=48  8x7=56  8x8=64  8x9=72  \n",
            "9x1=9   9x2=18  9x3=27  9x4=36  9x5=45  9x6=54  9x7=63  9x8=72  9x9=81  \n"
          ]
        }
      ],
      "source": [
        "for a in range(1,10):\n",
        "    for b in range(1,10):\n",
        "        if(a*b<10):\n",
        "            print(f'{a}x{b}={a*b}',end='   ')\n",
        "        else:\n",
        "            print(f'{a}x{b}={a*b}',end='  ')\n",
        "    print('')\n"
      ]
    },
    {
      "cell_type": "code",
      "source": [
        "i=1\n",
        "j=1\n",
        "while j<10:\n",
        "    while i<10:\n",
        "        print(i,'x',j,f'={(i*j):<2d}', end='     ')\n",
        "        i+=1\n",
        "    print('')\n",
        "    i=1\n",
        "    j+=1"
      ],
      "metadata": {
        "colab": {
          "base_uri": "https://localhost:8080/"
        },
        "id": "iafmcJF-p2YM",
        "outputId": "7db538be-ff71-402b-e623-4c55f106c498"
      },
      "execution_count": null,
      "outputs": [
        {
          "output_type": "stream",
          "name": "stdout",
          "text": [
            "1 x 1 =1      2 x 1 =2      3 x 1 =3      4 x 1 =4      5 x 1 =5      6 x 1 =6      7 x 1 =7      8 x 1 =8      9 x 1 =9      \n",
            "1 x 2 =2      2 x 2 =4      3 x 2 =6      4 x 2 =8      5 x 2 =10     6 x 2 =12     7 x 2 =14     8 x 2 =16     9 x 2 =18     \n",
            "1 x 3 =3      2 x 3 =6      3 x 3 =9      4 x 3 =12     5 x 3 =15     6 x 3 =18     7 x 3 =21     8 x 3 =24     9 x 3 =27     \n",
            "1 x 4 =4      2 x 4 =8      3 x 4 =12     4 x 4 =16     5 x 4 =20     6 x 4 =24     7 x 4 =28     8 x 4 =32     9 x 4 =36     \n",
            "1 x 5 =5      2 x 5 =10     3 x 5 =15     4 x 5 =20     5 x 5 =25     6 x 5 =30     7 x 5 =35     8 x 5 =40     9 x 5 =45     \n",
            "1 x 6 =6      2 x 6 =12     3 x 6 =18     4 x 6 =24     5 x 6 =30     6 x 6 =36     7 x 6 =42     8 x 6 =48     9 x 6 =54     \n",
            "1 x 7 =7      2 x 7 =14     3 x 7 =21     4 x 7 =28     5 x 7 =35     6 x 7 =42     7 x 7 =49     8 x 7 =56     9 x 7 =63     \n",
            "1 x 8 =8      2 x 8 =16     3 x 8 =24     4 x 8 =32     5 x 8 =40     6 x 8 =48     7 x 8 =56     8 x 8 =64     9 x 8 =72     \n",
            "1 x 9 =9      2 x 9 =18     3 x 9 =27     4 x 9 =36     5 x 9 =45     6 x 9 =54     7 x 9 =63     8 x 9 =72     9 x 9 =81     \n"
          ]
        }
      ]
    }
  ]
}