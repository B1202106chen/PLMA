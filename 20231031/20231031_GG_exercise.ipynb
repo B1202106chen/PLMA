{
  "nbformat": 4,
  "nbformat_minor": 0,
  "metadata": {
    "colab": {
      "provenance": []
    },
    "kernelspec": {
      "name": "python3",
      "display_name": "Python 3"
    },
    "language_info": {
      "name": "python"
    }
  },
  "cells": [
    {
      "cell_type": "code",
      "execution_count": 5,
      "metadata": {
        "colab": {
          "base_uri": "https://localhost:8080/"
        },
        "id": "FHIvZOL66qZC",
        "outputId": "d6f28d30-f486-4c5b-f1b5-2d2bb067cf74"
      },
      "outputs": [
        {
          "output_type": "stream",
          "name": "stdout",
          "text": [
            "請輸入一個大於一的整數：10\n",
            "7\n"
          ]
        }
      ],
      "source": [
        "num=int(input(\"請輸入一個大於一的整數：\"))\n",
        "while num<2:\n",
        "  num=int(input(\"輸入錯誤，請重新輸入一個大於一的整數：\"))\n",
        "prime=[]\n",
        "for i in range(2,num+1):\n",
        "    prime.append(i)\n",
        "    for j in range(2,i):\n",
        "      if i%j==0:\n",
        "        prime.remove(i)\n",
        "        break\n",
        "print(prime[len(prime)-1])"
      ]
    },
    {
      "cell_type": "code",
      "source": [
        "num=input(\"請輸入一串數字，數字間以逗號隔開：\")\n",
        "num=num.split(\",\")\n",
        "numlist=[]\n",
        "for i in range(len(num)):\n",
        "  numlist.append(int(num[i]))\n",
        "result=[]\n",
        "for i in range(len(numlist)):\n",
        "  a=0\n",
        "  for j in range(len(numlist)):\n",
        "    if numlist[i]>numlist[j]:\n",
        "      a+=1\n",
        "  result.append(a)\n",
        "print(result)"
      ],
      "metadata": {
        "colab": {
          "base_uri": "https://localhost:8080/"
        },
        "id": "FLNSMDAl7M9S",
        "outputId": "92f04eaf-8d78-4673-cbc6-f7ecd6f3f9a7"
      },
      "execution_count": 6,
      "outputs": [
        {
          "output_type": "stream",
          "name": "stdout",
          "text": [
            "請輸入一串數字，數字間以逗號隔開：1,2,3,4\n",
            "[0, 1, 2, 3]\n"
          ]
        }
      ]
    },
    {
      "cell_type": "code",
      "source": [
        "ball=str(input(\"請輸入一串0或1：\"))\n",
        "result=[]\n",
        "for i in range(len(ball)):\n",
        "  count=0\n",
        "  for j in range(len(ball)):\n",
        "    if ball[j]==\"1\":\n",
        "      count+=abs(i-j)\n",
        "  result.append(count)\n",
        "print(result)"
      ],
      "metadata": {
        "id": "PqKj6_t47fCW",
        "outputId": "960e3acd-05b4-4903-eaa2-fa618120eb32",
        "colab": {
          "base_uri": "https://localhost:8080/"
        }
      },
      "execution_count": 7,
      "outputs": [
        {
          "output_type": "stream",
          "name": "stdout",
          "text": [
            "請輸入一串0或1：001101\n",
            "[10, 7, 4, 3, 4, 5]\n"
          ]
        }
      ]
    }
  ]
}