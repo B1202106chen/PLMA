{
  "nbformat": 4,
  "nbformat_minor": 0,
  "metadata": {
    "colab": {
      "provenance": []
    },
    "kernelspec": {
      "name": "python3",
      "display_name": "Python 3"
    },
    "language_info": {
      "name": "python"
    }
  },
  "cells": [
    {
      "cell_type": "code",
      "execution_count": 14,
      "metadata": {
        "colab": {
          "base_uri": "https://localhost:8080/"
        },
        "id": "6KKEA8MfgJub",
        "outputId": "62008425-0455-41f4-930d-7c8a55ecefd8"
      },
      "outputs": [
        {
          "output_type": "stream",
          "name": "stdout",
          "text": [
            "請輸入成績1：100\n",
            "請輸入成績2：95\n",
            "請輸入成績3：90\n",
            "請輸入成績4：84\n",
            "請輸入成績5：85\n",
            "平均分數： 90.0\n"
          ]
        }
      ],
      "source": [
        "scores1=int(input(\"請輸入成績1：\"))\n",
        "scores2=int(input(\"請輸入成績2：\"))\n",
        "scores3=int(input(\"請輸入成績3：\"))\n",
        "scores4=int(input(\"請輸入成績4：\"))\n",
        "scores5=int(input(\"請輸入成績5：\"))\n",
        "a=[scores1,scores2,scores3,scores4,scores5]\n",
        "a.remove(max(a))\n",
        "a.remove(min(a))\n",
        "average=sum(a)/len(a)\n",
        "print(\"平均分數：\",average)"
      ]
    },
    {
      "cell_type": "code",
      "source": [
        "number1=float(input(\"請輸入數字1：\"))\n",
        "number2=float(input(\"請輸入數字2：\"))\n",
        "a=input(\"請輸入運算符號+、-、*或/：\")\n",
        "if a=='+':\n",
        "    print('number1+number2')\n",
        "elif a=='-':\n",
        "    print('number1-number2')\n",
        "elif a=='*':\n",
        "    print('number1*number2')\n",
        "elif a=='/':\n",
        "    print('number1/number2')\n",
        "else:\n",
        "    print(\"我只會加減乘除\")"
      ],
      "metadata": {
        "id": "otCvT8JywAU3",
        "colab": {
          "base_uri": "https://localhost:8080/"
        },
        "outputId": "ed89ba5e-f217-41fd-c2a9-520e87984395"
      },
      "execution_count": 16,
      "outputs": [
        {
          "output_type": "stream",
          "name": "stdout",
          "text": [
            "請輸入數字1：1\n",
            "請輸入數字2：3\n",
            "請輸入運算符號+、-、*或/：0\n",
            "我只會加減乘除\n"
          ]
        }
      ]
    },
    {
      "cell_type": "code",
      "source": [
        "a=float(input(\"請輸入年分：\"))\n",
        "if a/4==0:\n",
        "    print(\"閏年\")\n",
        "else:\n",
        "    print(\"平年\")"
      ],
      "metadata": {
        "colab": {
          "base_uri": "https://localhost:8080/"
        },
        "id": "enHrdW_IwBM-",
        "outputId": "2854d6b6-a59d-4384-e59b-09fe92237152"
      },
      "execution_count": null,
      "outputs": [
        {
          "output_type": "stream",
          "name": "stdout",
          "text": [
            "請輸入年分：2021\n",
            "平年\n"
          ]
        }
      ]
    }
  ]
}