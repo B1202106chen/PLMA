{
  "nbformat": 4,
  "nbformat_minor": 0,
  "metadata": {
    "colab": {
      "provenance": []
    },
    "kernelspec": {
      "name": "python3",
      "display_name": "Python 3"
    },
    "language_info": {
      "name": "python"
    }
  },
  "cells": [
    {
      "cell_type": "code",
      "execution_count": null,
      "metadata": {
        "colab": {
          "base_uri": "https://localhost:8080/"
        },
        "id": "18gV-gd5XBiB",
        "outputId": "b125d61e-6a2a-456e-94dd-aee2edc4ae1d"
      },
      "outputs": [
        {
          "output_type": "stream",
          "name": "stdout",
          "text": [
            "I'm a student.\n"
          ]
        }
      ],
      "source": [
        "print(\"I'm a student.\")"
      ]
    },
    {
      "cell_type": "code",
      "source": [
        "x1=int(input(\"請輸入A點的x座標：\"))\n",
        "y1=int(input(\"請輸入A點的y座標：\"))\n",
        "x2=int(input(\"請輸入B點的x座標：\"))\n",
        "y2=int(input(\"請輸入B點的y座標：\"))\n",
        "print(((x1-x2)**2+(y1-y2)**2)**0.5)"
      ],
      "metadata": {
        "colab": {
          "base_uri": "https://localhost:8080/"
        },
        "id": "JKok5-j8YN8b",
        "outputId": "dcf8541a-4dd2-40f3-8d70-e3c496a97635"
      },
      "execution_count": null,
      "outputs": [
        {
          "output_type": "stream",
          "name": "stdout",
          "text": [
            "請輸入A點的x座標：0\n",
            "請輸入A點的y座標：0\n",
            "請輸入B點的x座標：3\n",
            "請輸入B點的y座標：4\n",
            "5.0\n"
          ]
        }
      ]
    },
    {
      "cell_type": "code",
      "source": [
        "h=float(input(\"請輸入您的身高（公分）：\"))\n",
        "w=float(input(\"請輸入您的體重（公斤）：\"))\n",
        "w/=h/100\n",
        "w/=h/100\n",
        "print(\"您的BMI為\",w)\n",
        "print(int(w<18.5))"
      ],
      "metadata": {
        "colab": {
          "base_uri": "https://localhost:8080/"
        },
        "id": "DMb9HOuWZ8TQ",
        "outputId": "89aa53a7-a86c-470a-d7b2-d270ab2c53f3"
      },
      "execution_count": null,
      "outputs": [
        {
          "output_type": "stream",
          "name": "stdout",
          "text": [
            "請輸入您的身高（公分）：160\n",
            "請輸入您的體重（公斤）：50\n",
            "您的BMI為 19.53125\n",
            "0\n"
          ]
        }
      ]
    }
  ]
}