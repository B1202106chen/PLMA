{
  "nbformat": 4,
  "nbformat_minor": 0,
  "metadata": {
    "colab": {
      "provenance": []
    },
    "kernelspec": {
      "name": "python3",
      "display_name": "Python 3"
    },
    "language_info": {
      "name": "python"
    }
  },
  "cells": [
    {
      "cell_type": "code",
      "execution_count": null,
      "metadata": {
        "colab": {
          "base_uri": "https://localhost:8080/"
        },
        "id": "s6_njVPPfmLR",
        "outputId": "9b9af1d0-311d-451b-fa19-8257c9952520"
      },
      "outputs": [
        {
          "output_type": "stream",
          "name": "stdout",
          "text": [
            "hello world hahahaha\n"
          ]
        }
      ],
      "source": [
        "x = 'hello world hahahaha'\n",
        "print(x)"
      ]
    }
  ]
}