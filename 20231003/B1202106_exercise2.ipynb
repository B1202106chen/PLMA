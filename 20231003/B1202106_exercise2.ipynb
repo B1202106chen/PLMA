{
  "nbformat": 4,
  "nbformat_minor": 0,
  "metadata": {
    "colab": {
      "provenance": []
    },
    "kernelspec": {
      "name": "python3",
      "display_name": "Python 3"
    },
    "language_info": {
      "name": "python"
    }
  },
  "cells": [
    {
      "cell_type": "code",
      "execution_count": null,
      "metadata": {
        "colab": {
          "base_uri": "https://localhost:8080/"
        },
        "id": "7a-nP5eDcxcE",
        "outputId": "296915f6-2274-4bb9-edd3-a86ab31d21e6"
      },
      "outputs": [
        {
          "output_type": "stream",
          "name": "stdout",
          "text": [
            "F\n",
            "['K', 'G', 'H', 'U']\n"
          ]
        }
      ],
      "source": [
        "a='C,B,A'\n",
        "b=['F','G','H']\n",
        "c=a.split(',')\n",
        "d=c+b\n",
        "d[0]='K'\n",
        "e=d.pop(3)\n",
        "print(e)\n",
        "del d[1:3]\n",
        "d.append('U')\n",
        "print(d)"
      ]
    },
    {
      "cell_type": "code",
      "source": [
        "h=float(input(\"請輸入您的身高（公分）：\"))\n",
        "w=float(input(\"請輸入您的體重（公斤）：\"))\n",
        "w/=h/100\n",
        "w/=h/100\n",
        "print(\"您的BMI為\",w)\n",
        "a=18.5\n",
        "b=24\n",
        "c=27\n",
        "if w<a:\n",
        "    print(\"體位：過輕\")\n",
        "elif w<b:\n",
        "    print(\"體位：適中\")\n",
        "elif w<c:\n",
        "    print(\"體位：過重\")\n",
        "else:\n",
        "    print(\"體位：肥胖\")"
      ],
      "metadata": {
        "colab": {
          "base_uri": "https://localhost:8080/"
        },
        "id": "kBfI_Zall0GP",
        "outputId": "24fa860f-7bf7-40be-feb6-a43f043ac58e"
      },
      "execution_count": null,
      "outputs": [
        {
          "output_type": "stream",
          "name": "stdout",
          "text": [
            "請輸入您的身高（公分）：150\n",
            "請輸入您的體重（公斤）：45\n",
            "您的BMI為 20.0\n",
            "體位：適中\n"
          ]
        }
      ]
    }
  ]
}